{
 "cells": [
  {
   "cell_type": "markdown",
   "id": "98b30b6a-90b3-4408-a470-6f1477ab7a5f",
   "metadata": {
    "jp-MarkdownHeadingCollapsed": true
   },
   "source": [
    "<h1><center>CSCI E-108 Graduate Project Proposal</center></h1>\n",
    "<center><font size=4><b>Major league Baseball Team Optimizer via Recommender System</b></font></center>\n",
    "<center><font size=4>by Mark R. Elliott</font></center>"
   ]
  },
  {
   "cell_type": "markdown",
   "id": "54eb18b8-507f-403f-9a2a-1a4bd62b031f",
   "metadata": {},
   "source": [
    "# Summary"
   ]
  },
  {
   "cell_type": "markdown",
   "id": "bfbdab5c-8ebb-4f30-9854-380c53417802",
   "metadata": {},
   "source": [
    "Baseball is a sport that is synonymous with statistics, and increasingly so in the past decade. Each MLB stadium is equipped with several high-speed cameras and tracking equipment to gather high resolution data on every aspect of play, from the spin of an individual pitch to the angle of the ball as it leaves the opposing players bat. With massive amounts of data collected in each game, it has opened the door for large scale data analysis in both real-time, for teams of data scientists to evaluate things like pitcher fatigue, and in post-time, to evaluate things such as aggregate performance over long periods. \r\n",
    "\r\n",
    "For baseball fans, much of this data is made publicly available. Several websites such as official channels like baseballsavant.mlb.com, and fan channels like fangraphs.com and baseball-reference.com, condense the terabytes of data collected from each game into manageable query sets. Furthermore, developer James Ledoux created the python library `pybaseball` (http://github.com/jldbc/pybaseball), which scrapes several of these websites and generates dataframes for the requested data. The complete history of each at-bat as well as aggregate stats for pitchers is available since the foundation of the National Association of professional baseball players in 1871. \r\n",
    "\r\n",
    "Baseball is one of the most popular sports in the United States, and the rising value of contracts in recent years (10-year, $700m contract to Shohei Ohtani, spring 2024) reflects the immense amount of capital teams are willing to pay to attract top players. In my analysis, I will attempt to evaluate historical player performance, and attempt to provide trade recommendations based on key factors to optimize team composition.\r\n"
   ]
  },
  {
   "cell_type": "markdown",
   "id": "f97a6cf3-3780-453f-b306-2978448e73d6",
   "metadata": {},
   "source": [
    "# Objectives"
   ]
  },
  {
   "cell_type": "markdown",
   "id": "18857771-7740-4524-90a6-2254d3a7e458",
   "metadata": {},
   "source": [
    "The overall goal of this project is to use several different data mining techniques to evaluate individual player performance, decide if that performance indicates a player should be traded, then recommend a player from a different team that would improve the recipient team’s overall performance. \r\n",
    "\r\n",
    "There are many different positions in baseball, but all positions must also bat (with the exception of pitchers). Ideally, a team would be composed of members who excel at both roles, but this is usually not the case. Also, players who excel at both rolls typically also have the highest paid contracts. Due to Team spending limitations, it is not possible to have the best batter for every single position on one team. However, there is still room for optimization within a range of player capability.\r\n",
    "    \r\n",
    "I aim to test several methodologies in the following steps to build a complete team optimization recommender system.\r\n"
   ]
  },
  {
   "cell_type": "markdown",
   "id": "4c9a08b3-26ac-494f-a651-4cc1d68e9e2c",
   "metadata": {},
   "source": [
    "* ### Objective 1\n",
    "    Data wrangling and exploratory data analysis of relevant metrics. \n",
    "\n",
    "    The data retrieved from `pybaseball` queries will need to be grouped by player position/team as needed."
   ]
  },
  {
   "cell_type": "markdown",
   "id": "9611cd35-6544-472b-b378-ba47fda018e0",
   "metadata": {},
   "source": [
    "* ### Objective 2\n",
    "    For each individual MLB player, compare their batting performance to the average batting performance of all other players with that same position. This can potentially be done using pairwise t-test analysis, if a distribution of stats across a season/multiple seasons are used.\n",
    "\n",
    "    This is a simple estimation of player performance on an individual basis. From a team management perspective, it would give a broad idea of what positions on your team you should look to replace with a more performant batter."
   ]
  },
  {
   "cell_type": "markdown",
   "id": "094528c9-ef2b-4693-9c50-fc9f09cfe183",
   "metadata": {},
   "source": [
    "* ### Objective 3\n",
    "    Cluster batting performance by position. Several methodologies can be used such as k-means or hierarchical clustering.\r\n",
    "\r\n",
    "    This will aid in the ability to value a particular player. For example, if left fielders are typically the worst batters, and right fielders are typically the best batters, you would rank the value of a left fielder that can bat well higher than a right fielder that can bat well. This information can better inform the optimization of teams, where you can attempt to round out typically weak area.\r\n"
   ]
  },
  {
   "cell_type": "markdown",
   "id": "6ca18374-76c0-4870-aecb-709cbc7b01df",
   "metadata": {},
   "source": [
    "* ### Objective 4\n",
    "  Develop a team-based recommender system.\n",
    "\n",
    "    For a given team, recommend new players to fill previously determined gaps in in player performance. For example, if the Astros have a center fielder who significantly under performs relative to other center fielders in the league, recommend a set of set of fielders from other teams with more performant batting statistics."
   ]
  },
  {
   "cell_type": "markdown",
   "id": "452d823a-5cee-4291-b2f2-af58d51603b0",
   "metadata": {},
   "source": [
    "# Data"
   ]
  },
  {
   "cell_type": "markdown",
   "id": "9479f6e2-68d2-477f-9630-24669c0db5ee",
   "metadata": {},
   "source": [
    "I will be using the `pybaseball` library to query stats from several different websites, including baseballsavant.com, baseball-reference.com, and fangraph.com. The following is a demonstration of the library’s functions, as well as some representations of the scale of data. Since There is approximately 150 years of historical data, this project can be scaled as needed. I am going to begin my analysis with the complete 2023 season, but may expand this to additional prior years if I discover computation time to not be a limiting factor (streaming techniques may also be applicable here). I will also be excluding exhibition and spring-training games, since this may skew player performance."
   ]
  },
  {
   "cell_type": "markdown",
   "id": "902a97aa-c609-4d08-bb93-b3d68e5d60b8",
   "metadata": {},
   "source": [
    "#### Imports"
   ]
  },
  {
   "cell_type": "code",
   "execution_count": 29,
   "id": "d7440791-dbca-4baf-9750-37282971418c",
   "metadata": {},
   "outputs": [],
   "source": [
    "from pybaseball import statcast, playerid_lookup, statcast_pitcher, statcast_batter\n",
    "import pandas as pd\n",
    "import numpy as np\n",
    "\n",
    "import warnings\n",
    "warnings.filterwarnings('ignore')"
   ]
  },
  {
   "cell_type": "markdown",
   "id": "11484693-4b33-4c94-8d4c-eadf621ed570",
   "metadata": {},
   "source": [
    "#### statcast query\n",
    "Statcast is the official system of the MLB. Statcast enabled stadiums offer real-time tracking of countless metrics for MLB teams. This data is later aggregated and hosted on baseballsavant.mlb.com for post-time analysis by fans. Each row represents a snapshot of the current game state and resulting event for a given pitch. In 2023 there were approximately 729,775 pitches thrown. A full list of variable descriptions can be found at https://baseballsavant.mlb.com/csv-docs.\n",
    "\n",
    "note: There are several deprecated variables with 0 entries that will not be used."
   ]
  },
  {
   "cell_type": "code",
   "execution_count": 21,
   "id": "6a1556f3-066b-468b-911a-3f8e5252e184",
   "metadata": {},
   "outputs": [
    {
     "name": "stdout",
     "output_type": "stream",
     "text": [
      "This is a large query, it may take a moment to complete\n"
     ]
    },
    {
     "name": "stderr",
     "output_type": "stream",
     "text": [
      "100%|███████████████████████████████████████████████████████████████████████████████████████████████████████████████████████████████████████████████████████████████████████████| 217/217 [01:38<00:00,  2.19it/s]\n"
     ]
    }
   ],
   "source": [
    "# 2023 season\n",
    "statcast_2023 = statcast('2023-03-30', '2023-11-1')"
   ]
  },
  {
   "cell_type": "code",
   "execution_count": 22,
   "id": "decebc65-881b-465b-8be1-655b588e7942",
   "metadata": {},
   "outputs": [
    {
     "name": "stdout",
     "output_type": "stream",
     "text": [
      "<class 'pandas.core.frame.DataFrame'>\n",
      "Index: 729774 entries, 119 to 4423\n",
      "Data columns (total 94 columns):\n",
      " #   Column                           Non-Null Count   Dtype         \n",
      "---  ------                           --------------   -----         \n",
      " 0   pitch_type                       729504 non-null  object        \n",
      " 1   game_date                        729774 non-null  datetime64[ns]\n",
      " 2   release_speed                    729504 non-null  Float64       \n",
      " 3   release_pos_x                    729504 non-null  Float64       \n",
      " 4   release_pos_z                    729504 non-null  Float64       \n",
      " 5   player_name                      729774 non-null  object        \n",
      " 6   batter                           729774 non-null  Int64         \n",
      " 7   pitcher                          729774 non-null  Int64         \n",
      " 8   events                           186851 non-null  object        \n",
      " 9   description                      729774 non-null  object        \n",
      " 10  spin_dir                         0 non-null       Int64         \n",
      " 11  spin_rate_deprecated             0 non-null       Int64         \n",
      " 12  break_angle_deprecated           0 non-null       Int64         \n",
      " 13  break_length_deprecated          0 non-null       Int64         \n",
      " 14  zone                             729504 non-null  Int64         \n",
      " 15  des                              729774 non-null  object        \n",
      " 16  game_type                        729774 non-null  object        \n",
      " 17  stand                            729774 non-null  object        \n",
      " 18  p_throws                         729774 non-null  object        \n",
      " 19  home_team                        729774 non-null  object        \n",
      " 20  away_team                        729774 non-null  object        \n",
      " 21  type                             729774 non-null  object        \n",
      " 22  hit_location                     162701 non-null  Int64         \n",
      " 23  bb_type                          126277 non-null  object        \n",
      " 24  balls                            729774 non-null  Int64         \n",
      " 25  strikes                          729774 non-null  Int64         \n",
      " 26  game_year                        729774 non-null  Int64         \n",
      " 27  pfx_x                            729504 non-null  Float64       \n",
      " 28  pfx_z                            729504 non-null  Float64       \n",
      " 29  plate_x                          729504 non-null  Float64       \n",
      " 30  plate_z                          729504 non-null  Float64       \n",
      " 31  on_3b                            70529 non-null   Int64         \n",
      " 32  on_2b                            139576 non-null  Int64         \n",
      " 33  on_1b                            224983 non-null  Int64         \n",
      " 34  outs_when_up                     729774 non-null  Int64         \n",
      " 35  inning                           729774 non-null  Int64         \n",
      " 36  inning_topbot                    729774 non-null  object        \n",
      " 37  hc_x                             126221 non-null  Float64       \n",
      " 38  hc_y                             126221 non-null  Float64       \n",
      " 39  tfs_deprecated                   0 non-null       Int64         \n",
      " 40  tfs_zulu_deprecated              0 non-null       Int64         \n",
      " 41  fielder_2                        729774 non-null  Int64         \n",
      " 42  umpire                           0 non-null       Int64         \n",
      " 43  sv_id                            0 non-null       Int64         \n",
      " 44  vx0                              729504 non-null  Float64       \n",
      " 45  vy0                              729504 non-null  Float64       \n",
      " 46  vz0                              729504 non-null  Float64       \n",
      " 47  ax                               729504 non-null  Float64       \n",
      " 48  ay                               729504 non-null  Float64       \n",
      " 49  az                               729504 non-null  Float64       \n",
      " 50  sz_top                           729504 non-null  Float64       \n",
      " 51  sz_bot                           729504 non-null  Float64       \n",
      " 52  hit_distance_sc                  242068 non-null  Int64         \n",
      " 53  launch_speed                     240776 non-null  Float64       \n",
      " 54  launch_angle                     241100 non-null  Int64         \n",
      " 55  effective_speed                  728374 non-null  Float64       \n",
      " 56  release_spin_rate                725464 non-null  Int64         \n",
      " 57  release_extension                728473 non-null  Float64       \n",
      " 58  game_pk                          729774 non-null  Int64         \n",
      " 59  pitcher.1                        729774 non-null  Int64         \n",
      " 60  fielder_2.1                      729774 non-null  Int64         \n",
      " 61  fielder_3                        729774 non-null  Int64         \n",
      " 62  fielder_4                        729774 non-null  Int64         \n",
      " 63  fielder_5                        729774 non-null  Int64         \n",
      " 64  fielder_6                        729774 non-null  Int64         \n",
      " 65  fielder_7                        729774 non-null  Int64         \n",
      " 66  fielder_8                        729774 non-null  Int64         \n",
      " 67  fielder_9                        729774 non-null  Int64         \n",
      " 68  release_pos_y                    729504 non-null  Float64       \n",
      " 69  estimated_ba_using_speedangle    125914 non-null  Float64       \n",
      " 70  estimated_woba_using_speedangle  185673 non-null  Float64       \n",
      " 71  woba_value                       186851 non-null  Float64       \n",
      " 72  woba_denom                       186488 non-null  Int64         \n",
      " 73  babip_value                      186851 non-null  Int64         \n",
      " 74  iso_value                        186851 non-null  Int64         \n",
      " 75  launch_speed_angle               125914 non-null  Int64         \n",
      " 76  at_bat_number                    729774 non-null  Int64         \n",
      " 77  pitch_number                     729774 non-null  Int64         \n",
      " 78  pitch_name                       729504 non-null  object        \n",
      " 79  home_score                       729774 non-null  Int64         \n",
      " 80  away_score                       729774 non-null  Int64         \n",
      " 81  bat_score                        729774 non-null  Int64         \n",
      " 82  fld_score                        729774 non-null  Int64         \n",
      " 83  post_away_score                  729774 non-null  Int64         \n",
      " 84  post_home_score                  729774 non-null  Int64         \n",
      " 85  post_bat_score                   729774 non-null  Int64         \n",
      " 86  post_fld_score                   729774 non-null  Int64         \n",
      " 87  if_fielding_alignment            727305 non-null  object        \n",
      " 88  of_fielding_alignment            727305 non-null  object        \n",
      " 89  spin_axis                        725464 non-null  Int64         \n",
      " 90  delta_home_win_exp               729774 non-null  Float64       \n",
      " 91  delta_run_exp                    729719 non-null  Float64       \n",
      " 92  bat_speed                        0 non-null       Int64         \n",
      " 93  swing_length                     0 non-null       Int64         \n",
      "dtypes: Float64(26), Int64(51), datetime64[ns](1), object(16)\n",
      "memory usage: 582.5+ MB\n"
     ]
    }
   ],
   "source": [
    "statcast_2023.info()"
   ]
  },
  {
   "cell_type": "code",
   "execution_count": 24,
   "id": "0d58b192-7ac2-41d9-aa92-66f608f65c19",
   "metadata": {},
   "outputs": [
    {
     "data": {
      "text/html": [
       "<div>\n",
       "<style scoped>\n",
       "    .dataframe tbody tr th:only-of-type {\n",
       "        vertical-align: middle;\n",
       "    }\n",
       "\n",
       "    .dataframe tbody tr th {\n",
       "        vertical-align: top;\n",
       "    }\n",
       "\n",
       "    .dataframe thead th {\n",
       "        text-align: right;\n",
       "    }\n",
       "</style>\n",
       "<table border=\"1\" class=\"dataframe\">\n",
       "  <thead>\n",
       "    <tr style=\"text-align: right;\">\n",
       "      <th></th>\n",
       "      <th>pitch_type</th>\n",
       "      <th>game_date</th>\n",
       "      <th>release_speed</th>\n",
       "      <th>release_pos_x</th>\n",
       "      <th>release_pos_z</th>\n",
       "      <th>player_name</th>\n",
       "      <th>batter</th>\n",
       "      <th>pitcher</th>\n",
       "      <th>events</th>\n",
       "      <th>description</th>\n",
       "      <th>...</th>\n",
       "      <th>post_home_score</th>\n",
       "      <th>post_bat_score</th>\n",
       "      <th>post_fld_score</th>\n",
       "      <th>if_fielding_alignment</th>\n",
       "      <th>of_fielding_alignment</th>\n",
       "      <th>spin_axis</th>\n",
       "      <th>delta_home_win_exp</th>\n",
       "      <th>delta_run_exp</th>\n",
       "      <th>bat_speed</th>\n",
       "      <th>swing_length</th>\n",
       "    </tr>\n",
       "  </thead>\n",
       "  <tbody>\n",
       "    <tr>\n",
       "      <th>119</th>\n",
       "      <td>CU</td>\n",
       "      <td>2023-11-01</td>\n",
       "      <td>84.9</td>\n",
       "      <td>-1.19</td>\n",
       "      <td>6.12</td>\n",
       "      <td>Sborz, Josh</td>\n",
       "      <td>606466</td>\n",
       "      <td>622250</td>\n",
       "      <td>strikeout</td>\n",
       "      <td>called_strike</td>\n",
       "      <td>...</td>\n",
       "      <td>0</td>\n",
       "      <td>0</td>\n",
       "      <td>5</td>\n",
       "      <td>Infield shade</td>\n",
       "      <td>Standard</td>\n",
       "      <td>26</td>\n",
       "      <td>0.0</td>\n",
       "      <td>-0.09</td>\n",
       "      <td>&lt;NA&gt;</td>\n",
       "      <td>&lt;NA&gt;</td>\n",
       "    </tr>\n",
       "    <tr>\n",
       "      <th>124</th>\n",
       "      <td>FF</td>\n",
       "      <td>2023-11-01</td>\n",
       "      <td>96.6</td>\n",
       "      <td>-0.69</td>\n",
       "      <td>6.24</td>\n",
       "      <td>Sborz, Josh</td>\n",
       "      <td>606466</td>\n",
       "      <td>622250</td>\n",
       "      <td>NaN</td>\n",
       "      <td>ball</td>\n",
       "      <td>...</td>\n",
       "      <td>0</td>\n",
       "      <td>0</td>\n",
       "      <td>5</td>\n",
       "      <td>Strategic</td>\n",
       "      <td>Standard</td>\n",
       "      <td>206</td>\n",
       "      <td>0.0</td>\n",
       "      <td>0.016</td>\n",
       "      <td>&lt;NA&gt;</td>\n",
       "      <td>&lt;NA&gt;</td>\n",
       "    </tr>\n",
       "    <tr>\n",
       "      <th>129</th>\n",
       "      <td>CU</td>\n",
       "      <td>2023-11-01</td>\n",
       "      <td>84.5</td>\n",
       "      <td>-1.27</td>\n",
       "      <td>6.11</td>\n",
       "      <td>Sborz, Josh</td>\n",
       "      <td>606466</td>\n",
       "      <td>622250</td>\n",
       "      <td>NaN</td>\n",
       "      <td>called_strike</td>\n",
       "      <td>...</td>\n",
       "      <td>0</td>\n",
       "      <td>0</td>\n",
       "      <td>5</td>\n",
       "      <td>Standard</td>\n",
       "      <td>Standard</td>\n",
       "      <td>24</td>\n",
       "      <td>0.0</td>\n",
       "      <td>-0.027</td>\n",
       "      <td>&lt;NA&gt;</td>\n",
       "      <td>&lt;NA&gt;</td>\n",
       "    </tr>\n",
       "    <tr>\n",
       "      <th>132</th>\n",
       "      <td>FF</td>\n",
       "      <td>2023-11-01</td>\n",
       "      <td>95.4</td>\n",
       "      <td>-0.8</td>\n",
       "      <td>6.23</td>\n",
       "      <td>Sborz, Josh</td>\n",
       "      <td>606466</td>\n",
       "      <td>622250</td>\n",
       "      <td>NaN</td>\n",
       "      <td>foul</td>\n",
       "      <td>...</td>\n",
       "      <td>0</td>\n",
       "      <td>0</td>\n",
       "      <td>5</td>\n",
       "      <td>Standard</td>\n",
       "      <td>Standard</td>\n",
       "      <td>204</td>\n",
       "      <td>0.0</td>\n",
       "      <td>-0.022</td>\n",
       "      <td>&lt;NA&gt;</td>\n",
       "      <td>&lt;NA&gt;</td>\n",
       "    </tr>\n",
       "    <tr>\n",
       "      <th>138</th>\n",
       "      <td>FF</td>\n",
       "      <td>2023-11-01</td>\n",
       "      <td>95.6</td>\n",
       "      <td>-0.83</td>\n",
       "      <td>6.19</td>\n",
       "      <td>Sborz, Josh</td>\n",
       "      <td>606466</td>\n",
       "      <td>622250</td>\n",
       "      <td>NaN</td>\n",
       "      <td>ball</td>\n",
       "      <td>...</td>\n",
       "      <td>0</td>\n",
       "      <td>0</td>\n",
       "      <td>5</td>\n",
       "      <td>Standard</td>\n",
       "      <td>Standard</td>\n",
       "      <td>207</td>\n",
       "      <td>0.0</td>\n",
       "      <td>0.016</td>\n",
       "      <td>&lt;NA&gt;</td>\n",
       "      <td>&lt;NA&gt;</td>\n",
       "    </tr>\n",
       "  </tbody>\n",
       "</table>\n",
       "<p>5 rows × 94 columns</p>\n",
       "</div>"
      ],
      "text/plain": [
       "    pitch_type  game_date  release_speed  release_pos_x  release_pos_z  \\\n",
       "119         CU 2023-11-01           84.9          -1.19           6.12   \n",
       "124         FF 2023-11-01           96.6          -0.69           6.24   \n",
       "129         CU 2023-11-01           84.5          -1.27           6.11   \n",
       "132         FF 2023-11-01           95.4           -0.8           6.23   \n",
       "138         FF 2023-11-01           95.6          -0.83           6.19   \n",
       "\n",
       "     player_name  batter  pitcher     events    description  ...  \\\n",
       "119  Sborz, Josh  606466   622250  strikeout  called_strike  ...   \n",
       "124  Sborz, Josh  606466   622250        NaN           ball  ...   \n",
       "129  Sborz, Josh  606466   622250        NaN  called_strike  ...   \n",
       "132  Sborz, Josh  606466   622250        NaN           foul  ...   \n",
       "138  Sborz, Josh  606466   622250        NaN           ball  ...   \n",
       "\n",
       "     post_home_score  post_bat_score  post_fld_score  if_fielding_alignment  \\\n",
       "119                0               0               5          Infield shade   \n",
       "124                0               0               5              Strategic   \n",
       "129                0               0               5               Standard   \n",
       "132                0               0               5               Standard   \n",
       "138                0               0               5               Standard   \n",
       "\n",
       "     of_fielding_alignment spin_axis delta_home_win_exp delta_run_exp  \\\n",
       "119               Standard        26                0.0         -0.09   \n",
       "124               Standard       206                0.0         0.016   \n",
       "129               Standard        24                0.0        -0.027   \n",
       "132               Standard       204                0.0        -0.022   \n",
       "138               Standard       207                0.0         0.016   \n",
       "\n",
       "    bat_speed swing_length  \n",
       "119      <NA>         <NA>  \n",
       "124      <NA>         <NA>  \n",
       "129      <NA>         <NA>  \n",
       "132      <NA>         <NA>  \n",
       "138      <NA>         <NA>  \n",
       "\n",
       "[5 rows x 94 columns]"
      ]
     },
     "execution_count": 24,
     "metadata": {},
     "output_type": "execute_result"
    }
   ],
   "source": [
    "statcast_2023.head()"
   ]
  },
  {
   "cell_type": "markdown",
   "id": "e53b368d-4dcf-4fa4-a37f-e02281cc2a15",
   "metadata": {},
   "source": [
    "#### Batter lookups\n",
    "In addition to filtering the statcast query, individual player stats can also be queried. The statcast player-id can be used for the lookup, and may also prove useful for hash functions."
   ]
  },
  {
   "cell_type": "code",
   "execution_count": 26,
   "id": "e263d65c-53a6-45d0-8ffb-7e728414f564",
   "metadata": {},
   "outputs": [
    {
     "data": {
      "text/html": [
       "<div>\n",
       "<style scoped>\n",
       "    .dataframe tbody tr th:only-of-type {\n",
       "        vertical-align: middle;\n",
       "    }\n",
       "\n",
       "    .dataframe tbody tr th {\n",
       "        vertical-align: top;\n",
       "    }\n",
       "\n",
       "    .dataframe thead th {\n",
       "        text-align: right;\n",
       "    }\n",
       "</style>\n",
       "<table border=\"1\" class=\"dataframe\">\n",
       "  <thead>\n",
       "    <tr style=\"text-align: right;\">\n",
       "      <th></th>\n",
       "      <th>name_last</th>\n",
       "      <th>name_first</th>\n",
       "      <th>key_mlbam</th>\n",
       "      <th>key_retro</th>\n",
       "      <th>key_bbref</th>\n",
       "      <th>key_fangraphs</th>\n",
       "      <th>mlb_played_first</th>\n",
       "      <th>mlb_played_last</th>\n",
       "    </tr>\n",
       "  </thead>\n",
       "  <tbody>\n",
       "    <tr>\n",
       "      <th>0</th>\n",
       "      <td>judge</td>\n",
       "      <td>aaron</td>\n",
       "      <td>592450</td>\n",
       "      <td>judga001</td>\n",
       "      <td>judgeaa01</td>\n",
       "      <td>15640</td>\n",
       "      <td>2016.0</td>\n",
       "      <td>2024.0</td>\n",
       "    </tr>\n",
       "  </tbody>\n",
       "</table>\n",
       "</div>"
      ],
      "text/plain": [
       "  name_last name_first  key_mlbam key_retro  key_bbref  key_fangraphs  \\\n",
       "0     judge      aaron     592450  judga001  judgeaa01          15640   \n",
       "\n",
       "   mlb_played_first  mlb_played_last  \n",
       "0            2016.0           2024.0  "
      ]
     },
     "execution_count": 26,
     "metadata": {},
     "output_type": "execute_result"
    }
   ],
   "source": [
    "aaron_judge = playerid_lookup('judge', 'aaron')\n",
    "aaron_judge"
   ]
  },
  {
   "cell_type": "code",
   "execution_count": 28,
   "id": "74154993-0a33-4f68-ad0e-bbd75ad86982",
   "metadata": {},
   "outputs": [
    {
     "name": "stdout",
     "output_type": "stream",
     "text": [
      "Gathering Player Data\n"
     ]
    },
    {
     "data": {
      "text/plain": [
       "Index(['pitch_type', 'game_date', 'release_speed', 'release_pos_x',\n",
       "       'release_pos_z', 'player_name', 'batter', 'pitcher', 'events',\n",
       "       'description', 'spin_dir', 'spin_rate_deprecated',\n",
       "       'break_angle_deprecated', 'break_length_deprecated', 'zone', 'des',\n",
       "       'game_type', 'stand', 'p_throws', 'home_team', 'away_team', 'type',\n",
       "       'hit_location', 'bb_type', 'balls', 'strikes', 'game_year', 'pfx_x',\n",
       "       'pfx_z', 'plate_x', 'plate_z', 'on_3b', 'on_2b', 'on_1b',\n",
       "       'outs_when_up', 'inning', 'inning_topbot', 'hc_x', 'hc_y',\n",
       "       'tfs_deprecated', 'tfs_zulu_deprecated', 'fielder_2', 'umpire', 'sv_id',\n",
       "       'vx0', 'vy0', 'vz0', 'ax', 'ay', 'az', 'sz_top', 'sz_bot',\n",
       "       'hit_distance_sc', 'launch_speed', 'launch_angle', 'effective_speed',\n",
       "       'release_spin_rate', 'release_extension', 'game_pk', 'pitcher.1',\n",
       "       'fielder_2.1', 'fielder_3', 'fielder_4', 'fielder_5', 'fielder_6',\n",
       "       'fielder_7', 'fielder_8', 'fielder_9', 'release_pos_y',\n",
       "       'estimated_ba_using_speedangle', 'estimated_woba_using_speedangle',\n",
       "       'woba_value', 'woba_denom', 'babip_value', 'iso_value',\n",
       "       'launch_speed_angle', 'at_bat_number', 'pitch_number', 'pitch_name',\n",
       "       'home_score', 'away_score', 'bat_score', 'fld_score', 'post_away_score',\n",
       "       'post_home_score', 'post_bat_score', 'post_fld_score',\n",
       "       'if_fielding_alignment', 'of_fielding_alignment', 'spin_axis',\n",
       "       'delta_home_win_exp', 'delta_run_exp', 'bat_speed', 'swing_length'],\n",
       "      dtype='object')"
      ]
     },
     "execution_count": 28,
     "metadata": {},
     "output_type": "execute_result"
    }
   ],
   "source": [
    "statcast_batter('2023-03-30', '2023-11-1', aaron_judge['key_mlbam'][0]).columns"
   ]
  },
  {
   "cell_type": "markdown",
   "id": "a8ca4e53-c661-48b8-b9bd-6021bcb0557a",
   "metadata": {},
   "source": [
    "#### number of pitches each player was thrown in the 2023 season\n",
    "This is highly variable and may need to be weighted when determining batting statistics"
   ]
  },
  {
   "cell_type": "code",
   "execution_count": 42,
   "id": "32417f3b-371e-47fb-a84f-0309f60756c2",
   "metadata": {},
   "outputs": [
    {
     "data": {
      "text/html": [
       "<div>\n",
       "<style scoped>\n",
       "    .dataframe tbody tr th:only-of-type {\n",
       "        vertical-align: middle;\n",
       "    }\n",
       "\n",
       "    .dataframe tbody tr th {\n",
       "        vertical-align: top;\n",
       "    }\n",
       "\n",
       "    .dataframe thead th {\n",
       "        text-align: right;\n",
       "    }\n",
       "</style>\n",
       "<table border=\"1\" class=\"dataframe\">\n",
       "  <thead>\n",
       "    <tr style=\"text-align: right;\">\n",
       "      <th></th>\n",
       "      <th>player_name</th>\n",
       "      <th>count</th>\n",
       "    </tr>\n",
       "  </thead>\n",
       "  <tbody>\n",
       "    <tr>\n",
       "      <th>140</th>\n",
       "      <td>Claudio, Alex</td>\n",
       "      <td>4</td>\n",
       "    </tr>\n",
       "    <tr>\n",
       "      <th>858</th>\n",
       "      <td>Zavala, Seby</td>\n",
       "      <td>6</td>\n",
       "    </tr>\n",
       "    <tr>\n",
       "      <th>830</th>\n",
       "      <td>Williams, Luke</td>\n",
       "      <td>6</td>\n",
       "    </tr>\n",
       "    <tr>\n",
       "      <th>190</th>\n",
       "      <td>Dixon, Brandon</td>\n",
       "      <td>7</td>\n",
       "    </tr>\n",
       "    <tr>\n",
       "      <th>597</th>\n",
       "      <td>Phillips, Brett</td>\n",
       "      <td>7</td>\n",
       "    </tr>\n",
       "    <tr>\n",
       "      <th>...</th>\n",
       "      <td>...</td>\n",
       "      <td>...</td>\n",
       "    </tr>\n",
       "    <tr>\n",
       "      <th>735</th>\n",
       "      <td>Strider, Spencer</td>\n",
       "      <td>3290</td>\n",
       "    </tr>\n",
       "    <tr>\n",
       "      <th>527</th>\n",
       "      <td>Montgomery, Jordan</td>\n",
       "      <td>3380</td>\n",
       "    </tr>\n",
       "    <tr>\n",
       "      <th>558</th>\n",
       "      <td>Nola, Aaron</td>\n",
       "      <td>3431</td>\n",
       "    </tr>\n",
       "    <tr>\n",
       "      <th>822</th>\n",
       "      <td>Wheeler, Zack</td>\n",
       "      <td>3557</td>\n",
       "    </tr>\n",
       "    <tr>\n",
       "      <th>249</th>\n",
       "      <td>Gallen, Zac</td>\n",
       "      <td>3795</td>\n",
       "    </tr>\n",
       "  </tbody>\n",
       "</table>\n",
       "<p>863 rows × 2 columns</p>\n",
       "</div>"
      ],
      "text/plain": [
       "            player_name  count\n",
       "140       Claudio, Alex      4\n",
       "858        Zavala, Seby      6\n",
       "830      Williams, Luke      6\n",
       "190      Dixon, Brandon      7\n",
       "597     Phillips, Brett      7\n",
       "..                  ...    ...\n",
       "735    Strider, Spencer   3290\n",
       "527  Montgomery, Jordan   3380\n",
       "558         Nola, Aaron   3431\n",
       "822       Wheeler, Zack   3557\n",
       "249         Gallen, Zac   3795\n",
       "\n",
       "[863 rows x 2 columns]"
      ]
     },
     "execution_count": 42,
     "metadata": {},
     "output_type": "execute_result"
    }
   ],
   "source": [
    "number_of_pitches = statcast_2023.groupby(['player_name'])[\"game_date\"].count().reset_index(name=\"count\")\n",
    "number_of_pitches.sort_values(by='count')"
   ]
  },
  {
   "cell_type": "code",
   "execution_count": 50,
   "id": "57e902ca-9c0b-41da-bdff-478e78a8e052",
   "metadata": {},
   "outputs": [
    {
     "data": {
      "text/plain": [
       "array([[<Axes: title={'center': 'count'}>]], dtype=object)"
      ]
     },
     "execution_count": 50,
     "metadata": {},
     "output_type": "execute_result"
    },
    {
     "data": {
      "image/png": "[encoded data removed]",
      "text/plain": [
       "<Figure size 640x480 with 1 Axes>"
      ]
     },
     "metadata": {},
     "output_type": "display_data"
    }
   ],
   "source": [
    "number_of_pitches.hist(bins=int(number_of_pitches.shape[0]/5))"
   ]
  },
  {
   "cell_type": "code",
   "execution_count": null,
   "id": "b08a7ada-af78-4855-b62a-b459873562e2",
   "metadata": {},
   "outputs": [],
   "source": []
  }
 ],
 "metadata": {
  "kernelspec": {
   "display_name": "Python 3 (ipykernel)",
   "language": "python",
   "name": "python3"
  },
  "language_info": {
   "codemirror_mode": {
    "name": "ipython",
    "version": 3
   },
   "file_extension": ".py",
   "mimetype": "text/x-python",
   "name": "python",
   "nbconvert_exporter": "python",
   "pygments_lexer": "ipython3",
   "version": "3.12.4"
  }
 },
 "nbformat": 4,
 "nbformat_minor": 5
}
